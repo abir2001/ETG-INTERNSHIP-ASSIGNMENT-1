{
  "nbformat": 4,
  "nbformat_minor": 0,
  "metadata": {
    "colab": {
      "name": "Purchasing_Products.ipynb",
      "provenance": []
    },
    "kernelspec": {
      "display_name": "Python 3",
      "language": "python",
      "name": "python3"
    },
    "language_info": {
      "codemirror_mode": {
        "name": "ipython",
        "version": 3
      },
      "file_extension": ".py",
      "mimetype": "text/x-python",
      "name": "python",
      "nbconvert_exporter": "python",
      "pygments_lexer": "ipython3",
      "version": "3.8.8"
    }
  },
  "cells": [
    {
      "cell_type": "markdown",
      "metadata": {
        "id": "R6NHgAYkxqSl"
      },
      "source": [
        "## Read Inventory"
      ]
    },
    {
      "cell_type": "code",
      "metadata": {
        "id": "jkJT24jqug9n"
      },
      "source": [
        "import json\n",
        "\n",
        "fd = open(\"record.json\",'r')\n",
        "r = fd.read()\n",
        "fd.close()\n",
        "\n",
        "record = json.loads(r)"
      ],
      "execution_count": null,
      "outputs": []
    },
    {
      "cell_type": "code",
      "metadata": {
        "colab": {
          "base_uri": "https://localhost:8080/"
        },
        "id": "CcLYokrlus6z",
        "outputId": "525ffebc-7e32-463b-b0a4-2e6e9fc73f7c"
      },
      "source": [
        "record"
      ],
      "execution_count": null,
      "outputs": [
        {
          "data": {
            "text/plain": [
              "{'1001': {'name': 'Choco Cake',\n",
              "  'pr': 34,\n",
              "  'qn': 100,\n",
              "  'mfg': '10-1-2020',\n",
              "  'doe': '11-1-2021'},\n",
              " '1002': {'name': 'Milk Cake',\n",
              "  'pr': 800,\n",
              "  'qn': 89,\n",
              "  'mfg': '10-1-2020',\n",
              "  'doe': '11-1-2021'},\n",
              " '1003': {'name': 'Drink',\n",
              "  'pr': 85,\n",
              "  'qn': 44,\n",
              "  'mfg': '10-1-2020',\n",
              "  'doe': '11-1-2021'},\n",
              " '1004': {'name': 'Candy',\n",
              "  'pr': 5,\n",
              "  'qn': 1000,\n",
              "  'mfg': '10-1-2020',\n",
              "  'doe': '11-1-2021'},\n",
              " '1005': {'name': 'Pen',\n",
              "  'pr': 20,\n",
              "  'qn': 100,\n",
              "  'mfg': '10-1-2020',\n",
              "  'doe': '11-1-2021'},\n",
              " '1006': {'name': 'Phone',\n",
              "  'pr': 50000,\n",
              "  'qn': 10,\n",
              "  'mfg': '10-1-2020',\n",
              "  'doe': '11-1-2021'},\n",
              " '1007': {'name': 'Mic',\n",
              "  'pr': 1500,\n",
              "  'qn': 0,\n",
              "  'mfg': '10-1-2020',\n",
              "  'doe': '11-1-2021'},\n",
              " '1008': {'name': 'Case',\n",
              "  'pr': 599,\n",
              "  'qn': 5,\n",
              "  'mfg': '10-1-2020',\n",
              "  'doe': '11-1-2021'},\n",
              " '1009': {'name': 'flower vase',\n",
              "  'pr': 300,\n",
              "  'qn': 10,\n",
              "  'mfg': '10-1-2020',\n",
              "  'doe': '11-1-2021'},\n",
              " '1010': {'name': 'Pencil',\n",
              "  'pr': 5,\n",
              "  'qn': 97,\n",
              "  'mfg': '10-1-2020',\n",
              "  'doe': '11-1-2021'},\n",
              " '1011': {'name': 'Eraser',\n",
              "  'pr': 5,\n",
              "  'qn': 100,\n",
              "  'mfg': '10-1-2020',\n",
              "  'doe': '11-1-2021'},\n",
              " '1012': {'name': 'Clip',\n",
              "  'pr': 5,\n",
              "  'qn': 1000,\n",
              "  'mfg': '10-1-2020',\n",
              "  'doe': '11-1-2021'},\n",
              " '1013': {'name': 'Colour',\n",
              "  'pr': 100,\n",
              "  'qn': 100,\n",
              "  'mfg': '10-1-2020',\n",
              "  'doe': '11-1-2021'},\n",
              " '1014': {'name': 'Pencil Box',\n",
              "  'pr': 50,\n",
              "  'qn': 10,\n",
              "  'mfg': '10-1-2020',\n",
              "  'doe': '11-1-2021'},\n",
              " '1015': {'name': 'Strings',\n",
              "  'pr': 1000,\n",
              "  'qn': 2,\n",
              "  'mgf': '1-1-2020',\n",
              "  'doe': '6-6-2050'},\n",
              " '1016': {'name': 'Copy',\n",
              "  'pr': 50,\n",
              "  'qn': 5,\n",
              "  'mfg': '10-1-2020',\n",
              "  'doe': '11-1-2021'},\n",
              " '1017': {'name': 'Salt',\n",
              "  'pr': 20,\n",
              "  'qn': 10,\n",
              "  'mfg': '10-1-2020',\n",
              "  'doe': '11-1-2021'},\n",
              " '1018': {'name': 'Almond',\n",
              "  'pr': 80,\n",
              "  'qn': 100,\n",
              "  'mfg': '10-1-2020',\n",
              "  'doe': '11-1-2021'},\n",
              " '1019': {'name': 'Flour',\n",
              "  'pr': 85,\n",
              "  'qn': 100,\n",
              "  'mfg': '10-1-2020',\n",
              "  'doe': '11-1-2021'},\n",
              " '1020': {'name': 'Lays',\n",
              "  'pr': 5,\n",
              "  'qn': 990,\n",
              "  'mfg': '10-1-2020',\n",
              "  'doe': '11-1-2021'},\n",
              " '1021': {'name': 'Kurkure',\n",
              "  'pr': 5,\n",
              "  'qn': 100,\n",
              "  'mfg': '10-1-2020',\n",
              "  'doe': '11-1-2021'},\n",
              " '1022': {'name': 'Mad Angles',\n",
              "  'pr': 50,\n",
              "  'qn': 10,\n",
              "  'mfg': '10-1-2020',\n",
              "  'doe': '11-1-2021'},\n",
              " '1023': {'name': 'Chesse',\n",
              "  'pr': 15,\n",
              "  'qn': 0,\n",
              "  'mfg': '10-1-2020',\n",
              "  'doe': '11-1-2021'},\n",
              " '1024': {'name': 'Mayonese',\n",
              "  'pr': 180,\n",
              "  'qn': 5,\n",
              "  'mfg': '10-1-2020',\n",
              "  'doe': '11-1-2021'},\n",
              " '1025': {'name': 'Amul Cream',\n",
              "  'pr': 150,\n",
              "  'qn': 10,\n",
              "  'mfg': '10-1-2020',\n",
              "  'doe': '11-1-2021'},\n",
              " '1026': {'name': 'Maggi',\n",
              "  'pr': 12,\n",
              "  'qn': 98,\n",
              "  'mfg': '10-1-2020',\n",
              "  'doe': '11-1-2021'},\n",
              " '1027': {'name': 'Coke',\n",
              "  'pr': 40,\n",
              "  'qn': 100,\n",
              "  'mfg': '10-1-2020',\n",
              "  'doe': '11-1-2021'},\n",
              " '1028': {'name': 'Nachos',\n",
              "  'pr': 30,\n",
              "  'qn': 999,\n",
              "  'mfg': '10-1-2020',\n",
              "  'doe': '11-1-2021'},\n",
              " '1029': {'name': 'Safed',\n",
              "  'pr': 40,\n",
              "  'qn': 100,\n",
              "  'mfg': '10-1-2020',\n",
              "  'doe': '11-1-2021'},\n",
              " '1030': {'name': 'Shampoo',\n",
              "  'pr': 100,\n",
              "  'qn': 1,\n",
              "  'mgf': '1-1-2021',\n",
              "  'doe': '1-1-2022'},\n",
              " '1031': {'name': 'spoon',\n",
              "  'pr': 20,\n",
              "  'qn': 100,\n",
              "  'mgf': '2-2-2020',\n",
              "  'doe': '1-1-2030'},\n",
              " '1032': {'name': 'Almonds',\n",
              "  'pr': 300,\n",
              "  'qn': 2,\n",
              "  'mgf': '2-2-2021',\n",
              "  'doe': '3-3-2022'}}"
            ]
          },
          "execution_count": 2,
          "metadata": {},
          "output_type": "execute_result"
        }
      ]
    },
    {
      "cell_type": "markdown",
      "metadata": {
        "id": "WI5f7HTuxwzb"
      },
      "source": [
        "## Purchase"
      ]
    },
    {
      "cell_type": "code",
      "metadata": {
        "id": "c4E4eIvyuth0"
      },
      "source": [
        "prod_id  = input(\"Enter the product_Id: \")\n",
        "quant_2 = int(input(\"Enter the quantity: \"))\n",
        "\n",
        "print(\"Product: \", record[prod_id]['name'])\n",
        "print(\"Price: \", record[prod_id]['pr'])\n",
        "print(\"Billing Amount: \", record[prod_id]['pr'] * quant_2)\n",
        "        \n"
      ],
      "execution_count": null,
      "outputs": []
    },
    {
      "cell_type": "markdown",
      "metadata": {
        "id": "3h8S8JBVx1_D"
      },
      "source": [
        "## Update Inventory after purchase"
      ]
    },
    {
      "cell_type": "code",
      "metadata": {
        "id": "TO68fUvvwzXt"
      },
      "source": [
        "js = json.dumps(record)\n",
        "\n",
        "fd = open(\"record.json\",'w')\n",
        "fd.write(js)\n",
        "fd.close()"
      ],
      "execution_count": null,
      "outputs": []
    },
    {
      "cell_type": "code",
      "metadata": {
        "colab": {
          "base_uri": "https://localhost:8080/",
          "height": 35
        },
        "id": "t5nMnRDGzHCZ",
        "outputId": "abe4fbac-beb6-48fe-a56f-c4fee465bf91"
      },
      "source": [
        "import time\n",
        "time.ctime()\n"
      ],
      "execution_count": 2,
      "outputs": [
        {
          "output_type": "execute_result",
          "data": {
            "application/vnd.google.colaboratory.intrinsic+json": {
              "type": "string"
            },
            "text/plain": [
              "'Mon Sep  6 16:28:48 2021'"
            ]
          },
          "metadata": {},
          "execution_count": 2
        }
      ]
    }
  ]
}