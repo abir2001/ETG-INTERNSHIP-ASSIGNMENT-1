{
  "nbformat": 4,
  "nbformat_minor": 0,
  "metadata": {
    "colab": {
      "name": "Adding_new_Products.ipynb",
      "provenance": []
    },
    "kernelspec": {
      "display_name": "Python 3",
      "language": "python",
      "name": "python3"
    },
    "language_info": {
      "codemirror_mode": {
        "name": "ipython",
        "version": 3
      },
      "file_extension": ".py",
      "mimetype": "text/x-python",
      "name": "python",
      "nbconvert_exporter": "python",
      "pygments_lexer": "ipython3",
      "version": "3.8.8"
    }
  },
  "cells": [
    {
      "cell_type": "markdown",
      "metadata": {
        "id": "j9rSMgKytN9V"
      },
      "source": [
        "## Read Data from JSON"
      ]
    },
    {
      "cell_type": "code",
      "metadata": {
        "id": "wlQdKmzYpRok"
      },
      "source": [
        "import json\n",
        "fd = open(\"record.json\",'r')\n",
        "r = fd.read()\n",
        "fd.close()\n",
        "\n",
        "record = json.loads(r)"
      ],
      "execution_count": null,
      "outputs": []
    },
    {
      "cell_type": "code",
      "metadata": {
        "id": "N8fCrfQHqlUN"
      },
      "source": [
        "record\n"
      ],
      "execution_count": null,
      "outputs": []
    },
    {
      "cell_type": "markdown",
      "metadata": {
        "id": "fNniKChHtFsH"
      },
      "source": [
        "## Add New Item into Inventory"
      ]
    },
    {
      "cell_type": "code",
      "metadata": {
        "id": "f61BridoqxZN"
      },
      "source": [
        "prod_id = input(\"Enter product id:\")\n",
        "name= input(\"Enter name:\")\n",
        "pr = int(input(\"Enter price:\"))\n",
        "qn1 = int(input(\"Enter quantity:\"))\n",
        "mfg = input(\"Date of Manufacture:\")\n",
        "doe = input(\"Date of Expiry:\")\n",
        "\n",
        "\n",
        "record[prod_id]={'name':name,'pr':pr,'qn':qn_1,'mfg':mfg,'doe':doe}\n",
        "    \n",
        "\n",
        "\n",
        "fd = open(\"record.json\",'w')\n",
        "fd.write(js)\n",
        "fd.close()\n"
      ],
      "execution_count": null,
      "outputs": []
    },
    {
      "cell_type": "code",
      "metadata": {
        "id": "Isa5881ryaxI"
      },
      "source": [
        ""
      ],
      "execution_count": null,
      "outputs": []
    }
  ]
}